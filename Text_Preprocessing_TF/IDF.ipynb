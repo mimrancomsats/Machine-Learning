{
  "cells": [
    {
      "cell_type": "markdown",
      "metadata": {
        "id": "view-in-github",
        "colab_type": "text"
      },
      "source": [
        "<a href=\"https://colab.research.google.com/github/mimrancomsats/Machine-Learning/blob/main/Text_Preprocessing_TF/IDF.ipynb\" target=\"_parent\"><img src=\"https://colab.research.google.com/assets/colab-badge.svg\" alt=\"Open In Colab\"/></a>"
      ]
    },
    {
      "cell_type": "code",
      "source": [
        "sentences= \"\"\"Narendra Damodardas Modi (Gujarati: [ˈnəɾendɾə dɑmodəɾˈdɑs ˈmodiː] (listen); born 17 September 1950)[a] is an Indian politician serving as the 14th and current prime minister of India since 2014. Modi was the chief minister of Gujarat from 2001 to 2014 and is the Member of Parliament from Varanasi. He is a member of the Bharatiya Janata Party (BJP) and of the Rashtriya Swayamsevak Sangh (RSS), a right-wing Hindu nationalist paramilitary volunteer organisation. He is the first prime minister to have been born after India's independence in 1947 and the second prime minister not belonging to the Indian National Congress to have won two consecutive majorities in the Lok Sabha, or the lower house of India's parliament. He is also the longest serving prime minister from a non-Congress party.\n",
        "\n",
        "Born and raised in Vadnagar, a small town in northeastern Gujarat, Modi completed his secondary education there. He was introduced to the RSS at age eight. He has drawn attention to having to work as a child in his father's tea stall on the Vadnagar railway station platform, a description that has not been reliably corroborated. At age 18, Modi was married to Jashodaben Chimanlal Modi, whom he abandoned soon after. He left his parental home where she had come to live. He first publicly acknowledged her as his wife more than four decades later when required to do so by Indian law, but has made no contact with her since. Modi has asserted he had travelled in northern India for two years after leaving his parental home, visiting a number of religious centres, but few details of his travels have emerged. Upon his return to Gujarat in 1971, he became a full-time worker for the RSS. After the state of emergency was declared by prime minister Indira Gandhi in 1975, Modi went into hiding. The RSS assigned him to the BJP in 1985 and he held several positions within the party hierarchy until 2001, rising to the rank of general secretary.[b]\"\"\""
      ],
      "metadata": {
        "id": "1iiuMFtCUeLL"
      },
      "execution_count": 3,
      "outputs": []
    },
    {
      "cell_type": "code",
      "source": [
        "sentences"
      ],
      "metadata": {
        "colab": {
          "base_uri": "https://localhost:8080/",
          "height": 139
        },
        "id": "DUFB99rlUhzz",
        "outputId": "53ee97d1-ed95-455b-f547-147af2478c82"
      },
      "execution_count": 4,
      "outputs": [
        {
          "output_type": "execute_result",
          "data": {
            "text/plain": [
              "\"Narendra Damodardas Modi (Gujarati: [ˈnəɾendɾə dɑmodəɾˈdɑs ˈmodiː] (listen); born 17 September 1950)[a] is an Indian politician serving as the 14th and current prime minister of India since 2014. Modi was the chief minister of Gujarat from 2001 to 2014 and is the Member of Parliament from Varanasi. He is a member of the Bharatiya Janata Party (BJP) and of the Rashtriya Swayamsevak Sangh (RSS), a right-wing Hindu nationalist paramilitary volunteer organisation. He is the first prime minister to have been born after India's independence in 1947 and the second prime minister not belonging to the Indian National Congress to have won two consecutive majorities in the Lok Sabha, or the lower house of India's parliament. He is also the longest serving prime minister from a non-Congress party.\\n\\nBorn and raised in Vadnagar, a small town in northeastern Gujarat, Modi completed his secondary education there. He was introduced to the RSS at age eight. He has drawn attention to having to work as a child in his father's tea stall on the Vadnagar railway station platform, a description that has not been reliably corroborated. At age 18, Modi was married to Jashodaben Chimanlal Modi, whom he abandoned soon after. He left his parental home where she had come to live. He first publicly acknowledged her as his wife more than four decades later when required to do so by Indian law, but has made no contact with her since. Modi has asserted he had travelled in northern India for two years after leaving his parental home, visiting a number of religious centres, but few details of his travels have emerged. Upon his return to Gujarat in 1971, he became a full-time worker for the RSS. After the state of emergency was declared by prime minister Indira Gandhi in 1975, Modi went into hiding. The RSS assigned him to the BJP in 1985 and he held several positions within the party hierarchy until 2001, rising to the rank of general secretary.[b]\""
            ],
            "application/vnd.google.colaboratory.intrinsic+json": {
              "type": "string"
            }
          },
          "metadata": {},
          "execution_count": 4
        }
      ]
    },
    {
      "cell_type": "code",
      "source": [
        "import nltk\n",
        "nltk.download('punkt')\n",
        "from nltk.stem import PorterStemmer\n",
        "from nltk.corpus import stopwords"
      ],
      "metadata": {
        "colab": {
          "base_uri": "https://localhost:8080/"
        },
        "id": "ezwJs2RWUk9i",
        "outputId": "a9438bbe-90ab-48b6-c48c-c4ee6d76e0f5"
      },
      "execution_count": 5,
      "outputs": [
        {
          "output_type": "stream",
          "name": "stderr",
          "text": [
            "[nltk_data] Downloading package punkt to /root/nltk_data...\n",
            "[nltk_data]   Unzipping tokenizers/punkt.zip.\n"
          ]
        }
      ]
    },
    {
      "cell_type": "code",
      "source": [
        "### tokenization\n",
        "documents = nltk.sent_tokenize(sentences)"
      ],
      "metadata": {
        "id": "XzMn6b9wUn4w"
      },
      "execution_count": 6,
      "outputs": []
    },
    {
      "cell_type": "code",
      "source": [
        "stemmer = PorterStemmer()\n",
        "stemmer.stem('history')"
      ],
      "metadata": {
        "colab": {
          "base_uri": "https://localhost:8080/",
          "height": 35
        },
        "id": "aVnl8LQpU4eU",
        "outputId": "0f84bf69-aea1-4ffa-8d6e-8cb38d9bdc40"
      },
      "execution_count": 7,
      "outputs": [
        {
          "output_type": "execute_result",
          "data": {
            "text/plain": [
              "'histori'"
            ],
            "application/vnd.google.colaboratory.intrinsic+json": {
              "type": "string"
            }
          },
          "metadata": {},
          "execution_count": 7
        }
      ]
    },
    {
      "cell_type": "code",
      "source": [
        "len(documents)"
      ],
      "metadata": {
        "colab": {
          "base_uri": "https://localhost:8080/"
        },
        "id": "L4j7ZPN2U8EL",
        "outputId": "c2cbd69c-7c38-4d64-d8a2-d2afd6e4f034"
      },
      "execution_count": 8,
      "outputs": [
        {
          "output_type": "execute_result",
          "data": {
            "text/plain": [
              "16"
            ]
          },
          "metadata": {},
          "execution_count": 8
        }
      ]
    },
    {
      "cell_type": "code",
      "source": [
        "import nltk\n",
        "nltk.download('wordnet')\n",
        "nltk.download('omw-1.4')\n",
        "\n",
        "from nltk.stem import WordNetLemmatizer\n",
        "lemmatizer=WordNetLemmatizer()\n",
        "lemmatizer.lemmatize(\"history\")"
      ],
      "metadata": {
        "colab": {
          "base_uri": "https://localhost:8080/",
          "height": 70
        },
        "id": "mviqnrHQTHa4",
        "outputId": "d5503568-0087-4601-8849-def1126ef44d"
      },
      "execution_count": 9,
      "outputs": [
        {
          "output_type": "stream",
          "name": "stderr",
          "text": [
            "[nltk_data] Downloading package wordnet to /root/nltk_data...\n",
            "[nltk_data] Downloading package omw-1.4 to /root/nltk_data...\n"
          ]
        },
        {
          "output_type": "execute_result",
          "data": {
            "text/plain": [
              "'history'"
            ],
            "application/vnd.google.colaboratory.intrinsic+json": {
              "type": "string"
            }
          },
          "metadata": {},
          "execution_count": 9
        }
      ]
    },
    {
      "cell_type": "code",
      "source": [
        "import re\n",
        "corpus=[]\n",
        "for i in range(len(documents)):\n",
        "  review=re.sub('[^a-zA-Z]',' ', documents[i])\n",
        "  review=review.lower()\n",
        "  corpus.append(review)\n"
      ],
      "metadata": {
        "id": "KTx6TziCro4l"
      },
      "execution_count": 10,
      "outputs": []
    },
    {
      "cell_type": "code",
      "source": [
        "corpus"
      ],
      "metadata": {
        "colab": {
          "base_uri": "https://localhost:8080/"
        },
        "id": "Hy8e-oW1sKmV",
        "outputId": "ad4886d1-b7c8-4f53-fe8f-b7a084784851"
      },
      "execution_count": 11,
      "outputs": [
        {
          "output_type": "execute_result",
          "data": {
            "text/plain": [
              "['narendra damodardas modi  gujarati    n  end   d mod   d s  modi    listen   born    september       a  is an indian politician serving as the   th and current prime minister of india since      ',\n",
              " 'modi was the chief minister of gujarat from      to      and is the member of parliament from varanasi ',\n",
              " 'he is a member of the bharatiya janata party  bjp  and of the rashtriya swayamsevak sangh  rss   a right wing hindu nationalist paramilitary volunteer organisation ',\n",
              " 'he is the first prime minister to have been born after india s independence in      and the second prime minister not belonging to the indian national congress to have won two consecutive majorities in the lok sabha  or the lower house of india s parliament ',\n",
              " 'he is also the longest serving prime minister from a non congress party ',\n",
              " 'born and raised in vadnagar  a small town in northeastern gujarat  modi completed his secondary education there ',\n",
              " 'he was introduced to the rss at age eight ',\n",
              " 'he has drawn attention to having to work as a child in his father s tea stall on the vadnagar railway station platform  a description that has not been reliably corroborated ',\n",
              " 'at age     modi was married to jashodaben chimanlal modi  whom he abandoned soon after ',\n",
              " 'he left his parental home where she had come to live ',\n",
              " 'he first publicly acknowledged her as his wife more than four decades later when required to do so by indian law  but has made no contact with her since ',\n",
              " 'modi has asserted he had travelled in northern india for two years after leaving his parental home  visiting a number of religious centres  but few details of his travels have emerged ',\n",
              " 'upon his return to gujarat in       he became a full time worker for the rss ',\n",
              " 'after the state of emergency was declared by prime minister indira gandhi in       modi went into hiding ',\n",
              " 'the rss assigned him to the bjp in      and he held several positions within the party hierarchy until       rising to the rank of general secretary ',\n",
              " ' b ']"
            ]
          },
          "metadata": {},
          "execution_count": 11
        }
      ]
    },
    {
      "cell_type": "code",
      "source": [
        "nltk.download('stopwords')"
      ],
      "metadata": {
        "colab": {
          "base_uri": "https://localhost:8080/"
        },
        "id": "ERWP0V-Wtx8u",
        "outputId": "0a9a0bee-9cf1-465d-b08c-e08cd5403489"
      },
      "execution_count": 12,
      "outputs": [
        {
          "output_type": "stream",
          "name": "stderr",
          "text": [
            "[nltk_data] Downloading package stopwords to /root/nltk_data...\n",
            "[nltk_data]   Unzipping corpora/stopwords.zip.\n"
          ]
        },
        {
          "output_type": "execute_result",
          "data": {
            "text/plain": [
              "True"
            ]
          },
          "metadata": {},
          "execution_count": 12
        }
      ]
    },
    {
      "cell_type": "code",
      "source": [
        "stopwords.words('english')"
      ],
      "metadata": {
        "colab": {
          "base_uri": "https://localhost:8080/"
        },
        "id": "ezCC4WZVuiIg",
        "outputId": "b97bb32b-4163-4249-8e12-fcce84d6b5bb"
      },
      "execution_count": 13,
      "outputs": [
        {
          "output_type": "execute_result",
          "data": {
            "text/plain": [
              "['i',\n",
              " 'me',\n",
              " 'my',\n",
              " 'myself',\n",
              " 'we',\n",
              " 'our',\n",
              " 'ours',\n",
              " 'ourselves',\n",
              " 'you',\n",
              " \"you're\",\n",
              " \"you've\",\n",
              " \"you'll\",\n",
              " \"you'd\",\n",
              " 'your',\n",
              " 'yours',\n",
              " 'yourself',\n",
              " 'yourselves',\n",
              " 'he',\n",
              " 'him',\n",
              " 'his',\n",
              " 'himself',\n",
              " 'she',\n",
              " \"she's\",\n",
              " 'her',\n",
              " 'hers',\n",
              " 'herself',\n",
              " 'it',\n",
              " \"it's\",\n",
              " 'its',\n",
              " 'itself',\n",
              " 'they',\n",
              " 'them',\n",
              " 'their',\n",
              " 'theirs',\n",
              " 'themselves',\n",
              " 'what',\n",
              " 'which',\n",
              " 'who',\n",
              " 'whom',\n",
              " 'this',\n",
              " 'that',\n",
              " \"that'll\",\n",
              " 'these',\n",
              " 'those',\n",
              " 'am',\n",
              " 'is',\n",
              " 'are',\n",
              " 'was',\n",
              " 'were',\n",
              " 'be',\n",
              " 'been',\n",
              " 'being',\n",
              " 'have',\n",
              " 'has',\n",
              " 'had',\n",
              " 'having',\n",
              " 'do',\n",
              " 'does',\n",
              " 'did',\n",
              " 'doing',\n",
              " 'a',\n",
              " 'an',\n",
              " 'the',\n",
              " 'and',\n",
              " 'but',\n",
              " 'if',\n",
              " 'or',\n",
              " 'because',\n",
              " 'as',\n",
              " 'until',\n",
              " 'while',\n",
              " 'of',\n",
              " 'at',\n",
              " 'by',\n",
              " 'for',\n",
              " 'with',\n",
              " 'about',\n",
              " 'against',\n",
              " 'between',\n",
              " 'into',\n",
              " 'through',\n",
              " 'during',\n",
              " 'before',\n",
              " 'after',\n",
              " 'above',\n",
              " 'below',\n",
              " 'to',\n",
              " 'from',\n",
              " 'up',\n",
              " 'down',\n",
              " 'in',\n",
              " 'out',\n",
              " 'on',\n",
              " 'off',\n",
              " 'over',\n",
              " 'under',\n",
              " 'again',\n",
              " 'further',\n",
              " 'then',\n",
              " 'once',\n",
              " 'here',\n",
              " 'there',\n",
              " 'when',\n",
              " 'where',\n",
              " 'why',\n",
              " 'how',\n",
              " 'all',\n",
              " 'any',\n",
              " 'both',\n",
              " 'each',\n",
              " 'few',\n",
              " 'more',\n",
              " 'most',\n",
              " 'other',\n",
              " 'some',\n",
              " 'such',\n",
              " 'no',\n",
              " 'nor',\n",
              " 'not',\n",
              " 'only',\n",
              " 'own',\n",
              " 'same',\n",
              " 'so',\n",
              " 'than',\n",
              " 'too',\n",
              " 'very',\n",
              " 's',\n",
              " 't',\n",
              " 'can',\n",
              " 'will',\n",
              " 'just',\n",
              " 'don',\n",
              " \"don't\",\n",
              " 'should',\n",
              " \"should've\",\n",
              " 'now',\n",
              " 'd',\n",
              " 'll',\n",
              " 'm',\n",
              " 'o',\n",
              " 're',\n",
              " 've',\n",
              " 'y',\n",
              " 'ain',\n",
              " 'aren',\n",
              " \"aren't\",\n",
              " 'couldn',\n",
              " \"couldn't\",\n",
              " 'didn',\n",
              " \"didn't\",\n",
              " 'doesn',\n",
              " \"doesn't\",\n",
              " 'hadn',\n",
              " \"hadn't\",\n",
              " 'hasn',\n",
              " \"hasn't\",\n",
              " 'haven',\n",
              " \"haven't\",\n",
              " 'isn',\n",
              " \"isn't\",\n",
              " 'ma',\n",
              " 'mightn',\n",
              " \"mightn't\",\n",
              " 'mustn',\n",
              " \"mustn't\",\n",
              " 'needn',\n",
              " \"needn't\",\n",
              " 'shan',\n",
              " \"shan't\",\n",
              " 'shouldn',\n",
              " \"shouldn't\",\n",
              " 'wasn',\n",
              " \"wasn't\",\n",
              " 'weren',\n",
              " \"weren't\",\n",
              " 'won',\n",
              " \"won't\",\n",
              " 'wouldn',\n",
              " \"wouldn't\"]"
            ]
          },
          "metadata": {},
          "execution_count": 13
        }
      ]
    },
    {
      "cell_type": "code",
      "source": [
        "## stemming\n",
        "for i in corpus:\n",
        "  words = nltk.word_tokenize(i)\n",
        "  for word in words:\n",
        "    if word not in set(stopwords.words('english')):\n",
        "      print(stemmer.stem(word))"
      ],
      "metadata": {
        "colab": {
          "base_uri": "https://localhost:8080/"
        },
        "id": "h2ISwgHUssuB",
        "outputId": "83926186-c974-4edc-ccfa-b3cae046bbb5"
      },
      "execution_count": 14,
      "outputs": [
        {
          "output_type": "stream",
          "name": "stdout",
          "text": [
            "narendra\n",
            "damodarda\n",
            "modi\n",
            "gujarati\n",
            "n\n",
            "end\n",
            "mod\n",
            "modi\n",
            "listen\n",
            "born\n",
            "septemb\n",
            "indian\n",
            "politician\n",
            "serv\n",
            "th\n",
            "current\n",
            "prime\n",
            "minist\n",
            "india\n",
            "sinc\n",
            "modi\n",
            "chief\n",
            "minist\n",
            "gujarat\n",
            "member\n",
            "parliament\n",
            "varanasi\n",
            "member\n",
            "bharatiya\n",
            "janata\n",
            "parti\n",
            "bjp\n",
            "rashtriya\n",
            "swayamsevak\n",
            "sangh\n",
            "rss\n",
            "right\n",
            "wing\n",
            "hindu\n",
            "nationalist\n",
            "paramilitari\n",
            "volunt\n",
            "organis\n",
            "first\n",
            "prime\n",
            "minist\n",
            "born\n",
            "india\n",
            "independ\n",
            "second\n",
            "prime\n",
            "minist\n",
            "belong\n",
            "indian\n",
            "nation\n",
            "congress\n",
            "two\n",
            "consecut\n",
            "major\n",
            "lok\n",
            "sabha\n",
            "lower\n",
            "hous\n",
            "india\n",
            "parliament\n",
            "also\n",
            "longest\n",
            "serv\n",
            "prime\n",
            "minist\n",
            "non\n",
            "congress\n",
            "parti\n",
            "born\n",
            "rais\n",
            "vadnagar\n",
            "small\n",
            "town\n",
            "northeastern\n",
            "gujarat\n",
            "modi\n",
            "complet\n",
            "secondari\n",
            "educ\n",
            "introduc\n",
            "rss\n",
            "age\n",
            "eight\n",
            "drawn\n",
            "attent\n",
            "work\n",
            "child\n",
            "father\n",
            "tea\n",
            "stall\n",
            "vadnagar\n",
            "railway\n",
            "station\n",
            "platform\n",
            "descript\n",
            "reliabl\n",
            "corrobor\n",
            "age\n",
            "modi\n",
            "marri\n",
            "jashodaben\n",
            "chimanl\n",
            "modi\n",
            "abandon\n",
            "soon\n",
            "left\n",
            "parent\n",
            "home\n",
            "come\n",
            "live\n",
            "first\n",
            "publicli\n",
            "acknowledg\n",
            "wife\n",
            "four\n",
            "decad\n",
            "later\n",
            "requir\n",
            "indian\n",
            "law\n",
            "made\n",
            "contact\n",
            "sinc\n",
            "modi\n",
            "assert\n",
            "travel\n",
            "northern\n",
            "india\n",
            "two\n",
            "year\n",
            "leav\n",
            "parent\n",
            "home\n",
            "visit\n",
            "number\n",
            "religi\n",
            "centr\n",
            "detail\n",
            "travel\n",
            "emerg\n",
            "upon\n",
            "return\n",
            "gujarat\n",
            "becam\n",
            "full\n",
            "time\n",
            "worker\n",
            "rss\n",
            "state\n",
            "emerg\n",
            "declar\n",
            "prime\n",
            "minist\n",
            "indira\n",
            "gandhi\n",
            "modi\n",
            "went\n",
            "hide\n",
            "rss\n",
            "assign\n",
            "bjp\n",
            "held\n",
            "sever\n",
            "posit\n",
            "within\n",
            "parti\n",
            "hierarchi\n",
            "rise\n",
            "rank\n",
            "gener\n",
            "secretari\n",
            "b\n"
          ]
        }
      ]
    },
    {
      "cell_type": "code",
      "source": [
        "## lemmitization\n",
        "for i in corpus:\n",
        "  words = nltk.word_tokenize(i)\n",
        "  for word in words:\n",
        "    if word not in set(stopwords.words('english')):\n",
        "      print(lemmatizer.lemmatize(word))"
      ],
      "metadata": {
        "colab": {
          "base_uri": "https://localhost:8080/"
        },
        "id": "-1v6QAJIvRm0",
        "outputId": "eb81e103-53e1-4958-c627-5f6250eaa5c7"
      },
      "execution_count": 15,
      "outputs": [
        {
          "output_type": "stream",
          "name": "stdout",
          "text": [
            "narendra\n",
            "damodardas\n",
            "modi\n",
            "gujarati\n",
            "n\n",
            "end\n",
            "mod\n",
            "modi\n",
            "listen\n",
            "born\n",
            "september\n",
            "indian\n",
            "politician\n",
            "serving\n",
            "th\n",
            "current\n",
            "prime\n",
            "minister\n",
            "india\n",
            "since\n",
            "modi\n",
            "chief\n",
            "minister\n",
            "gujarat\n",
            "member\n",
            "parliament\n",
            "varanasi\n",
            "member\n",
            "bharatiya\n",
            "janata\n",
            "party\n",
            "bjp\n",
            "rashtriya\n",
            "swayamsevak\n",
            "sangh\n",
            "r\n",
            "right\n",
            "wing\n",
            "hindu\n",
            "nationalist\n",
            "paramilitary\n",
            "volunteer\n",
            "organisation\n",
            "first\n",
            "prime\n",
            "minister\n",
            "born\n",
            "india\n",
            "independence\n",
            "second\n",
            "prime\n",
            "minister\n",
            "belonging\n",
            "indian\n",
            "national\n",
            "congress\n",
            "two\n",
            "consecutive\n",
            "majority\n",
            "lok\n",
            "sabha\n",
            "lower\n",
            "house\n",
            "india\n",
            "parliament\n",
            "also\n",
            "longest\n",
            "serving\n",
            "prime\n",
            "minister\n",
            "non\n",
            "congress\n",
            "party\n",
            "born\n",
            "raised\n",
            "vadnagar\n",
            "small\n",
            "town\n",
            "northeastern\n",
            "gujarat\n",
            "modi\n",
            "completed\n",
            "secondary\n",
            "education\n",
            "introduced\n",
            "r\n",
            "age\n",
            "eight\n",
            "drawn\n",
            "attention\n",
            "work\n",
            "child\n",
            "father\n",
            "tea\n",
            "stall\n",
            "vadnagar\n",
            "railway\n",
            "station\n",
            "platform\n",
            "description\n",
            "reliably\n",
            "corroborated\n",
            "age\n",
            "modi\n",
            "married\n",
            "jashodaben\n",
            "chimanlal\n",
            "modi\n",
            "abandoned\n",
            "soon\n",
            "left\n",
            "parental\n",
            "home\n",
            "come\n",
            "live\n",
            "first\n",
            "publicly\n",
            "acknowledged\n",
            "wife\n",
            "four\n",
            "decade\n",
            "later\n",
            "required\n",
            "indian\n",
            "law\n",
            "made\n",
            "contact\n",
            "since\n",
            "modi\n",
            "asserted\n",
            "travelled\n",
            "northern\n",
            "india\n",
            "two\n",
            "year\n",
            "leaving\n",
            "parental\n",
            "home\n",
            "visiting\n",
            "number\n",
            "religious\n",
            "centre\n",
            "detail\n",
            "travel\n",
            "emerged\n",
            "upon\n",
            "return\n",
            "gujarat\n",
            "became\n",
            "full\n",
            "time\n",
            "worker\n",
            "r\n",
            "state\n",
            "emergency\n",
            "declared\n",
            "prime\n",
            "minister\n",
            "indira\n",
            "gandhi\n",
            "modi\n",
            "went\n",
            "hiding\n",
            "r\n",
            "assigned\n",
            "bjp\n",
            "held\n",
            "several\n",
            "position\n",
            "within\n",
            "party\n",
            "hierarchy\n",
            "rising\n",
            "rank\n",
            "general\n",
            "secretary\n",
            "b\n"
          ]
        }
      ]
    },
    {
      "cell_type": "code",
      "source": [
        "import re\n",
        "corpus=[]\n",
        "for i in range(len(documents)):\n",
        "  review = re.sub('[^a-zA-Z]',' ', documents[i])\n",
        "  review = review.lower()\n",
        "  review = review.split()\n",
        "  review = [lemmatizer.lemmatize(word) for word in review if word not in set(stopwords.words('english'))]\n",
        "  review = ' '.join(review)\n",
        "  corpus.append(review)"
      ],
      "metadata": {
        "id": "jdOrEn1Rk9zX"
      },
      "execution_count": 16,
      "outputs": []
    },
    {
      "cell_type": "code",
      "source": [
        "corpus"
      ],
      "metadata": {
        "colab": {
          "base_uri": "https://localhost:8080/"
        },
        "id": "jr4zt_7vrP9g",
        "outputId": "11bfdd14-3da7-4a58-f841-553691e15921"
      },
      "execution_count": 17,
      "outputs": [
        {
          "output_type": "execute_result",
          "data": {
            "text/plain": [
              "['narendra damodardas modi gujarati n end mod modi listen born september indian politician serving th current prime minister india since',\n",
              " 'modi chief minister gujarat member parliament varanasi',\n",
              " 'member bharatiya janata party bjp rashtriya swayamsevak sangh r right wing hindu nationalist paramilitary volunteer organisation',\n",
              " 'first prime minister born india independence second prime minister belonging indian national congress two consecutive majority lok sabha lower house india parliament',\n",
              " 'also longest serving prime minister non congress party',\n",
              " 'born raised vadnagar small town northeastern gujarat modi completed secondary education',\n",
              " 'introduced r age eight',\n",
              " 'drawn attention work child father tea stall vadnagar railway station platform description reliably corroborated',\n",
              " 'age modi married jashodaben chimanlal modi abandoned soon',\n",
              " 'left parental home come live',\n",
              " 'first publicly acknowledged wife four decade later required indian law made contact since',\n",
              " 'modi asserted travelled northern india two year leaving parental home visiting number religious centre detail travel emerged',\n",
              " 'upon return gujarat became full time worker r',\n",
              " 'state emergency declared prime minister indira gandhi modi went hiding',\n",
              " 'r assigned bjp held several position within party hierarchy rising rank general secretary',\n",
              " 'b']"
            ]
          },
          "metadata": {},
          "execution_count": 17
        }
      ]
    },
    {
      "cell_type": "code",
      "source": [
        "##Bag of Words\n",
        "from sklearn.feature_extraction.text import CountVectorizer\n",
        "cv=CountVectorizer(ngram_range=(2,3))"
      ],
      "metadata": {
        "id": "E1yAnN4nv8I-"
      },
      "execution_count": 25,
      "outputs": []
    },
    {
      "cell_type": "code",
      "source": [
        "X=cv.fit_transform(corpus)"
      ],
      "metadata": {
        "id": "65k3aPNWwMUb"
      },
      "execution_count": 26,
      "outputs": []
    },
    {
      "cell_type": "code",
      "source": [
        "cv.vocabulary_"
      ],
      "metadata": {
        "colab": {
          "base_uri": "https://localhost:8080/"
        },
        "id": "mbh2hbvL49ko",
        "outputId": "ea6fba60-511a-4606-e636-380d670df02c"
      },
      "execution_count": 27,
      "outputs": [
        {
          "output_type": "execute_result",
          "data": {
            "text/plain": [
              "{'narendra damodardas': 176,\n",
              " 'damodardas modi': 49,\n",
              " 'modi gujarati': 168,\n",
              " 'gujarati end': 84,\n",
              " 'end mod': 63,\n",
              " 'mod modi': 158,\n",
              " 'modi listen': 170,\n",
              " 'listen born': 128,\n",
              " 'born september': 28,\n",
              " 'september indian': 240,\n",
              " 'indian politician': 110,\n",
              " 'politician serving': 202,\n",
              " 'serving th': 244,\n",
              " 'th current': 260,\n",
              " 'current prime': 47,\n",
              " 'prime minister': 206,\n",
              " 'minister india': 152,\n",
              " 'india since': 103,\n",
              " 'narendra damodardas modi': 177,\n",
              " 'damodardas modi gujarati': 50,\n",
              " 'modi gujarati end': 169,\n",
              " 'gujarati end mod': 85,\n",
              " 'end mod modi': 64,\n",
              " 'mod modi listen': 159,\n",
              " 'modi listen born': 171,\n",
              " 'listen born september': 129,\n",
              " 'born september indian': 29,\n",
              " 'september indian politician': 241,\n",
              " 'indian politician serving': 111,\n",
              " 'politician serving th': 203,\n",
              " 'serving th current': 245,\n",
              " 'th current prime': 261,\n",
              " 'current prime minister': 48,\n",
              " 'prime minister india': 209,\n",
              " 'minister india since': 153,\n",
              " 'modi chief': 164,\n",
              " 'chief minister': 32,\n",
              " 'minister gujarat': 150,\n",
              " 'gujarat member': 80,\n",
              " 'member parliament': 144,\n",
              " 'parliament varanasi': 195,\n",
              " 'modi chief minister': 165,\n",
              " 'chief minister gujarat': 33,\n",
              " 'minister gujarat member': 151,\n",
              " 'gujarat member parliament': 81,\n",
              " 'member parliament varanasi': 145,\n",
              " 'member bharatiya': 142,\n",
              " 'bharatiya janata': 18,\n",
              " 'janata party': 116,\n",
              " 'party bjp': 196,\n",
              " 'bjp rashtriya': 22,\n",
              " 'rashtriya swayamsevak': 220,\n",
              " 'swayamsevak sangh': 256,\n",
              " 'sangh right': 235,\n",
              " 'right wing': 229,\n",
              " 'wing hindu': 284,\n",
              " 'hindu nationalist': 90,\n",
              " 'nationalist paramilitary': 180,\n",
              " 'paramilitary volunteer': 190,\n",
              " 'volunteer organisation': 280,\n",
              " 'member bharatiya janata': 143,\n",
              " 'bharatiya janata party': 19,\n",
              " 'janata party bjp': 117,\n",
              " 'party bjp rashtriya': 197,\n",
              " 'bjp rashtriya swayamsevak': 23,\n",
              " 'rashtriya swayamsevak sangh': 221,\n",
              " 'swayamsevak sangh right': 257,\n",
              " 'sangh right wing': 236,\n",
              " 'right wing hindu': 230,\n",
              " 'wing hindu nationalist': 285,\n",
              " 'hindu nationalist paramilitary': 91,\n",
              " 'nationalist paramilitary volunteer': 181,\n",
              " 'paramilitary volunteer organisation': 191,\n",
              " 'first prime': 67,\n",
              " 'minister born': 148,\n",
              " 'born india': 24,\n",
              " 'india independence': 100,\n",
              " 'independence second': 98,\n",
              " 'second prime': 237,\n",
              " 'minister belonging': 146,\n",
              " 'belonging indian': 16,\n",
              " 'indian national': 108,\n",
              " 'national congress': 178,\n",
              " 'congress two': 42,\n",
              " 'two consecutive': 268,\n",
              " 'consecutive majority': 44,\n",
              " 'majority lok': 138,\n",
              " 'lok sabha': 130,\n",
              " 'sabha lower': 233,\n",
              " 'lower house': 134,\n",
              " 'house india': 96,\n",
              " 'india parliament': 102,\n",
              " 'first prime minister': 68,\n",
              " 'prime minister born': 208,\n",
              " 'minister born india': 149,\n",
              " 'born india independence': 25,\n",
              " 'india independence second': 101,\n",
              " 'independence second prime': 99,\n",
              " 'second prime minister': 238,\n",
              " 'prime minister belonging': 207,\n",
              " 'minister belonging indian': 147,\n",
              " 'belonging indian national': 17,\n",
              " 'indian national congress': 109,\n",
              " 'national congress two': 179,\n",
              " 'congress two consecutive': 43,\n",
              " 'two consecutive majority': 269,\n",
              " 'consecutive majority lok': 45,\n",
              " 'majority lok sabha': 139,\n",
              " 'lok sabha lower': 131,\n",
              " 'sabha lower house': 234,\n",
              " 'lower house india': 135,\n",
              " 'house india parliament': 97,\n",
              " 'also longest': 6,\n",
              " 'longest serving': 132,\n",
              " 'serving prime': 242,\n",
              " 'minister non': 156,\n",
              " 'non congress': 182,\n",
              " 'congress party': 41,\n",
              " 'also longest serving': 7,\n",
              " 'longest serving prime': 133,\n",
              " 'serving prime minister': 243,\n",
              " 'prime minister non': 211,\n",
              " 'minister non congress': 157,\n",
              " 'non congress party': 183,\n",
              " 'born raised': 26,\n",
              " 'raised vadnagar': 216,\n",
              " 'vadnagar small': 276,\n",
              " 'small town': 248,\n",
              " 'town northeastern': 263,\n",
              " 'northeastern gujarat': 184,\n",
              " 'gujarat modi': 82,\n",
              " 'modi completed': 166,\n",
              " 'completed secondary': 39,\n",
              " 'secondary education': 239,\n",
              " 'born raised vadnagar': 27,\n",
              " 'raised vadnagar small': 217,\n",
              " 'vadnagar small town': 277,\n",
              " 'small town northeastern': 249,\n",
              " 'town northeastern gujarat': 264,\n",
              " 'northeastern gujarat modi': 185,\n",
              " 'gujarat modi completed': 83,\n",
              " 'modi completed secondary': 167,\n",
              " 'completed secondary education': 40,\n",
              " 'introduced age': 114,\n",
              " 'age eight': 3,\n",
              " 'introduced age eight': 115,\n",
              " 'drawn attention': 59,\n",
              " 'attention work': 12,\n",
              " 'work child': 288,\n",
              " 'child father': 34,\n",
              " 'father tea': 65,\n",
              " 'tea stall': 258,\n",
              " 'stall vadnagar': 250,\n",
              " 'vadnagar railway': 274,\n",
              " 'railway station': 214,\n",
              " 'station platform': 254,\n",
              " 'platform description': 200,\n",
              " 'description reliably': 55,\n",
              " 'reliably corroborated': 222,\n",
              " 'drawn attention work': 60,\n",
              " 'attention work child': 13,\n",
              " 'work child father': 289,\n",
              " 'child father tea': 35,\n",
              " 'father tea stall': 66,\n",
              " 'tea stall vadnagar': 259,\n",
              " 'stall vadnagar railway': 251,\n",
              " 'vadnagar railway station': 275,\n",
              " 'railway station platform': 215,\n",
              " 'station platform description': 255,\n",
              " 'platform description reliably': 201,\n",
              " 'description reliably corroborated': 56,\n",
              " 'age modi': 4,\n",
              " 'modi married': 172,\n",
              " 'married jashodaben': 140,\n",
              " 'jashodaben chimanlal': 118,\n",
              " 'chimanlal modi': 36,\n",
              " 'modi abandoned': 160,\n",
              " 'abandoned soon': 0,\n",
              " 'age modi married': 5,\n",
              " 'modi married jashodaben': 173,\n",
              " 'married jashodaben chimanlal': 141,\n",
              " 'jashodaben chimanlal modi': 119,\n",
              " 'chimanlal modi abandoned': 37,\n",
              " 'modi abandoned soon': 161,\n",
              " 'left parental': 126,\n",
              " 'parental home': 192,\n",
              " 'home come': 92,\n",
              " 'come live': 38,\n",
              " 'left parental home': 127,\n",
              " 'parental home come': 193,\n",
              " 'home come live': 93,\n",
              " 'first publicly': 69,\n",
              " 'publicly acknowledged': 212,\n",
              " 'acknowledged wife': 1,\n",
              " 'wife four': 282,\n",
              " 'four decade': 71,\n",
              " 'decade later': 51,\n",
              " 'later required': 120,\n",
              " 'required indian': 225,\n",
              " 'indian law': 106,\n",
              " 'law made': 122,\n",
              " 'made contact': 136,\n",
              " 'contact since': 46,\n",
              " 'first publicly acknowledged': 70,\n",
              " 'publicly acknowledged wife': 213,\n",
              " 'acknowledged wife four': 2,\n",
              " 'wife four decade': 283,\n",
              " 'four decade later': 72,\n",
              " 'decade later required': 52,\n",
              " 'later required indian': 121,\n",
              " 'required indian law': 226,\n",
              " 'indian law made': 107,\n",
              " 'law made contact': 123,\n",
              " 'made contact since': 137,\n",
              " 'modi asserted': 162,\n",
              " 'asserted travelled': 8,\n",
              " 'travelled northern': 266,\n",
              " 'northern india': 186,\n",
              " 'india two': 104,\n",
              " 'two year': 270,\n",
              " 'year leaving': 290,\n",
              " 'leaving parental': 124,\n",
              " 'home visiting': 94,\n",
              " 'visiting number': 278,\n",
              " 'number religious': 188,\n",
              " 'religious centre': 223,\n",
              " 'centre detail': 30,\n",
              " 'detail travel': 57,\n",
              " 'travel emerged': 265,\n",
              " 'modi asserted travelled': 163,\n",
              " 'asserted travelled northern': 9,\n",
              " 'travelled northern india': 267,\n",
              " 'northern india two': 187,\n",
              " 'india two year': 105,\n",
              " 'two year leaving': 271,\n",
              " 'year leaving parental': 291,\n",
              " 'leaving parental home': 125,\n",
              " 'parental home visiting': 194,\n",
              " 'home visiting number': 95,\n",
              " 'visiting number religious': 279,\n",
              " 'number religious centre': 189,\n",
              " 'religious centre detail': 224,\n",
              " 'centre detail travel': 31,\n",
              " 'detail travel emerged': 58,\n",
              " 'upon return': 272,\n",
              " 'return gujarat': 227,\n",
              " 'gujarat became': 78,\n",
              " 'became full': 14,\n",
              " 'full time': 73,\n",
              " 'time worker': 262,\n",
              " 'upon return gujarat': 273,\n",
              " 'return gujarat became': 228,\n",
              " 'gujarat became full': 79,\n",
              " 'became full time': 15,\n",
              " 'full time worker': 74,\n",
              " 'state emergency': 252,\n",
              " 'emergency declared': 61,\n",
              " 'declared prime': 53,\n",
              " 'minister indira': 154,\n",
              " 'indira gandhi': 112,\n",
              " 'gandhi modi': 75,\n",
              " 'modi went': 174,\n",
              " 'went hiding': 281,\n",
              " 'state emergency declared': 253,\n",
              " 'emergency declared prime': 62,\n",
              " 'declared prime minister': 54,\n",
              " 'prime minister indira': 210,\n",
              " 'minister indira gandhi': 155,\n",
              " 'indira gandhi modi': 113,\n",
              " 'gandhi modi went': 76,\n",
              " 'modi went hiding': 175,\n",
              " 'assigned bjp': 10,\n",
              " 'bjp held': 20,\n",
              " 'held several': 86,\n",
              " 'several position': 246,\n",
              " 'position within': 204,\n",
              " 'within party': 286,\n",
              " 'party hierarchy': 198,\n",
              " 'hierarchy rising': 88,\n",
              " 'rising rank': 231,\n",
              " 'rank general': 218,\n",
              " 'general secretary': 77,\n",
              " 'assigned bjp held': 11,\n",
              " 'bjp held several': 21,\n",
              " 'held several position': 87,\n",
              " 'several position within': 247,\n",
              " 'position within party': 205,\n",
              " 'within party hierarchy': 287,\n",
              " 'party hierarchy rising': 199,\n",
              " 'hierarchy rising rank': 89,\n",
              " 'rising rank general': 232,\n",
              " 'rank general secretary': 219}"
            ]
          },
          "metadata": {},
          "execution_count": 27
        }
      ]
    },
    {
      "cell_type": "code",
      "source": [
        "corpus[0]"
      ],
      "metadata": {
        "colab": {
          "base_uri": "https://localhost:8080/",
          "height": 35
        },
        "id": "kJDtAi2U61AN",
        "outputId": "de2d62d0-166e-4e06-9cb7-ffeb88a8ff8b"
      },
      "execution_count": 28,
      "outputs": [
        {
          "output_type": "execute_result",
          "data": {
            "text/plain": [
              "'narendra damodardas modi gujarati n end mod modi listen born september indian politician serving th current prime minister india since'"
            ],
            "application/vnd.google.colaboratory.intrinsic+json": {
              "type": "string"
            }
          },
          "metadata": {},
          "execution_count": 28
        }
      ]
    },
    {
      "cell_type": "code",
      "source": [
        "X[0].toarray()"
      ],
      "metadata": {
        "colab": {
          "base_uri": "https://localhost:8080/"
        },
        "id": "eqO0iMNs7LQP",
        "outputId": "bd79154f-bfe3-4d11-a0ea-37d426842c78"
      },
      "execution_count": 29,
      "outputs": [
        {
          "output_type": "execute_result",
          "data": {
            "text/plain": [
              "array([[0, 0, 0, 0, 0, 0, 0, 0, 0, 0, 0, 0, 0, 0, 0, 0, 0, 0, 0, 0, 0, 0,\n",
              "        0, 0, 0, 0, 0, 0, 1, 1, 0, 0, 0, 0, 0, 0, 0, 0, 0, 0, 0, 0, 0, 0,\n",
              "        0, 0, 0, 1, 1, 1, 1, 0, 0, 0, 0, 0, 0, 0, 0, 0, 0, 0, 0, 1, 1, 0,\n",
              "        0, 0, 0, 0, 0, 0, 0, 0, 0, 0, 0, 0, 0, 0, 0, 0, 0, 0, 1, 1, 0, 0,\n",
              "        0, 0, 0, 0, 0, 0, 0, 0, 0, 0, 0, 0, 0, 0, 0, 1, 0, 0, 0, 0, 0, 0,\n",
              "        1, 1, 0, 0, 0, 0, 0, 0, 0, 0, 0, 0, 0, 0, 0, 0, 0, 0, 1, 1, 0, 0,\n",
              "        0, 0, 0, 0, 0, 0, 0, 0, 0, 0, 0, 0, 0, 0, 0, 0, 0, 0, 0, 0, 1, 1,\n",
              "        0, 0, 0, 0, 1, 1, 0, 0, 0, 0, 0, 0, 0, 0, 1, 1, 1, 1, 0, 0, 0, 0,\n",
              "        1, 1, 0, 0, 0, 0, 0, 0, 0, 0, 0, 0, 0, 0, 0, 0, 0, 0, 0, 0, 0, 0,\n",
              "        0, 0, 0, 0, 1, 1, 0, 0, 1, 0, 0, 1, 0, 0, 0, 0, 0, 0, 0, 0, 0, 0,\n",
              "        0, 0, 0, 0, 0, 0, 0, 0, 0, 0, 0, 0, 0, 0, 0, 0, 0, 0, 0, 0, 1, 1,\n",
              "        0, 0, 1, 1, 0, 0, 0, 0, 0, 0, 0, 0, 0, 0, 0, 0, 0, 0, 1, 1, 0, 0,\n",
              "        0, 0, 0, 0, 0, 0, 0, 0, 0, 0, 0, 0, 0, 0, 0, 0, 0, 0, 0, 0, 0, 0,\n",
              "        0, 0, 0, 0, 0, 0]])"
            ]
          },
          "metadata": {},
          "execution_count": 29
        }
      ]
    },
    {
      "cell_type": "code",
      "source": [
        "## TF/IDF \n",
        "\n",
        "from sklearn.feature_extraction.text import TfidfVectorizer\n",
        "cv=TfidfVectorizer()\n",
        "X=cv.fit_transform(corpus)"
      ],
      "metadata": {
        "id": "KzjVIzIfl9rQ"
      },
      "execution_count": 30,
      "outputs": []
    },
    {
      "cell_type": "code",
      "source": [
        "corpus[0]"
      ],
      "metadata": {
        "id": "ENQx7IBkpxdG",
        "outputId": "9b241e5d-527c-4f49-fd4c-22892daee554",
        "colab": {
          "base_uri": "https://localhost:8080/",
          "height": 35
        }
      },
      "execution_count": 31,
      "outputs": [
        {
          "output_type": "execute_result",
          "data": {
            "text/plain": [
              "'narendra damodardas modi gujarati n end mod modi listen born september indian politician serving th current prime minister india since'"
            ],
            "application/vnd.google.colaboratory.intrinsic+json": {
              "type": "string"
            }
          },
          "metadata": {},
          "execution_count": 31
        }
      ]
    },
    {
      "cell_type": "code",
      "source": [
        "X[0].toarray()"
      ],
      "metadata": {
        "id": "df_1TXMRp39o",
        "outputId": "e4afe89c-3ce3-49d3-e24b-6a55972531e5",
        "colab": {
          "base_uri": "https://localhost:8080/"
        }
      },
      "execution_count": 33,
      "outputs": [
        {
          "output_type": "execute_result",
          "data": {
            "text/plain": [
              "array([[0.        , 0.        , 0.        , 0.        , 0.        ,\n",
              "        0.        , 0.        , 0.        , 0.        , 0.        ,\n",
              "        0.        , 0.19661812, 0.        , 0.        , 0.        ,\n",
              "        0.        , 0.        , 0.        , 0.        , 0.        ,\n",
              "        0.        , 0.        , 0.25231481, 0.25231481, 0.        ,\n",
              "        0.        , 0.        , 0.        , 0.        , 0.        ,\n",
              "        0.        , 0.        , 0.        , 0.25231481, 0.        ,\n",
              "        0.        , 0.        , 0.        , 0.        , 0.        ,\n",
              "        0.        , 0.25231481, 0.        , 0.        , 0.        ,\n",
              "        0.        , 0.        , 0.        , 0.        , 0.19661812,\n",
              "        0.19661812, 0.        , 0.        , 0.        , 0.        ,\n",
              "        0.        , 0.        , 0.        , 0.        , 0.25231481,\n",
              "        0.        , 0.        , 0.        , 0.        , 0.        ,\n",
              "        0.        , 0.        , 0.        , 0.16403764, 0.25231481,\n",
              "        0.30330224, 0.25231481, 0.        , 0.        , 0.        ,\n",
              "        0.        , 0.        , 0.        , 0.        , 0.        ,\n",
              "        0.        , 0.        , 0.        , 0.        , 0.25231481,\n",
              "        0.        , 0.17868779, 0.        , 0.        , 0.        ,\n",
              "        0.        , 0.        , 0.        , 0.        , 0.        ,\n",
              "        0.        , 0.        , 0.        , 0.        , 0.        ,\n",
              "        0.        , 0.        , 0.        , 0.25231481, 0.21973434,\n",
              "        0.        , 0.21973434, 0.        , 0.        , 0.        ,\n",
              "        0.        , 0.        , 0.        , 0.        , 0.25231481,\n",
              "        0.        , 0.        , 0.        , 0.        , 0.        ,\n",
              "        0.        , 0.        , 0.        , 0.        , 0.        ,\n",
              "        0.        , 0.        , 0.        , 0.        , 0.        ,\n",
              "        0.        , 0.        ]])"
            ]
          },
          "metadata": {},
          "execution_count": 33
        }
      ]
    }
  ],
  "metadata": {
    "colab": {
      "collapsed_sections": [],
      "name": "Welcome To Colaboratory",
      "provenance": [],
      "include_colab_link": true
    },
    "kernelspec": {
      "display_name": "Python 3",
      "name": "python3"
    }
  },
  "nbformat": 4,
  "nbformat_minor": 0
}