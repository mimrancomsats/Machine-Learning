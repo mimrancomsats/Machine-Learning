{
  "cells": [
    {
      "cell_type": "markdown",
      "metadata": {
        "id": "view-in-github",
        "colab_type": "text"
      },
      "source": [
        "<a href=\"https://colab.research.google.com/github/mimrancomsats/Machine-Learning/blob/main/Image%20Classification%20using%20ANN.ipynb\" target=\"_parent\"><img src=\"https://colab.research.google.com/assets/colab-badge.svg\" alt=\"Open In Colab\"/></a>"
      ]
    },
    {
      "cell_type": "code",
      "source": [
        "import tensorflow as tf\n",
        "from tensorflow import keras\n",
        "import matplotlib.pyplot as plt\n",
        "import numpy as np\n",
        "# Version Information\n",
        "# tensorflow 2.2.0 , Cudnn7.6.5 and Cuda 10.1 , python 3.8"
      ],
      "metadata": {
        "id": "wLCjiLKNC3dg"
      },
      "execution_count": 1,
      "outputs": []
    },
    {
      "cell_type": "code",
      "source": [
        "tf.config.experimental.list_physical_devices()"
      ],
      "metadata": {
        "id": "ufk8wcnyIiYf",
        "outputId": "a27b308c-a2ab-46c6-dc71-1957809b602b",
        "colab": {
          "base_uri": "https://localhost:8080/"
        }
      },
      "execution_count": 8,
      "outputs": [
        {
          "output_type": "execute_result",
          "data": {
            "text/plain": [
              "[PhysicalDevice(name='/physical_device:CPU:0', device_type='CPU')]"
            ]
          },
          "metadata": {},
          "execution_count": 8
        }
      ]
    },
    {
      "cell_type": "code",
      "source": [
        "tf.__version__"
      ],
      "metadata": {
        "id": "a9qxVCWoIn1x",
        "outputId": "782e8aef-e6e4-421f-baa4-5c84ee3fa17a",
        "colab": {
          "base_uri": "https://localhost:8080/",
          "height": 35
        }
      },
      "execution_count": 9,
      "outputs": [
        {
          "output_type": "execute_result",
          "data": {
            "text/plain": [
              "'2.8.2'"
            ],
            "application/vnd.google.colaboratory.intrinsic+json": {
              "type": "string"
            }
          },
          "metadata": {},
          "execution_count": 9
        }
      ]
    },
    {
      "cell_type": "code",
      "source": [
        "tf.test.is_built_with_cuda()"
      ],
      "metadata": {
        "colab": {
          "base_uri": "https://localhost:8080/"
        },
        "id": "rvheTnrkDk7E",
        "outputId": "56d1f6f8-405b-4077-cde4-a7657cae7385"
      },
      "execution_count": 5,
      "outputs": [
        {
          "output_type": "execute_result",
          "data": {
            "text/plain": [
              "True"
            ]
          },
          "metadata": {},
          "execution_count": 5
        }
      ]
    },
    {
      "cell_type": "code",
      "source": [
        "(X_train, y_train), (X_test,y_test) = tf.keras.datasets.cifar10.load_data()"
      ],
      "metadata": {
        "colab": {
          "base_uri": "https://localhost:8080/"
        },
        "id": "H8gZbe3DEe3_",
        "outputId": "77457d61-afd5-4eae-efa0-3c162e206f1f"
      },
      "execution_count": 6,
      "outputs": [
        {
          "output_type": "stream",
          "name": "stdout",
          "text": [
            "Downloading data from https://www.cs.toronto.edu/~kriz/cifar-10-python.tar.gz\n",
            "170500096/170498071 [==============================] - 2s 0us/step\n",
            "170508288/170498071 [==============================] - 2s 0us/step\n"
          ]
        }
      ]
    },
    {
      "cell_type": "code",
      "source": [
        "X_train.shape"
      ],
      "metadata": {
        "colab": {
          "base_uri": "https://localhost:8080/"
        },
        "id": "z59JTjl-EmpJ",
        "outputId": "0025cafc-102c-4038-c7eb-b0f2c9be56f4"
      },
      "execution_count": 7,
      "outputs": [
        {
          "output_type": "execute_result",
          "data": {
            "text/plain": [
              "(50000, 32, 32, 3)"
            ]
          },
          "metadata": {},
          "execution_count": 7
        }
      ]
    },
    {
      "cell_type": "code",
      "source": [
        "y_train.shape"
      ],
      "metadata": {
        "id": "fQ4fb6OvKCIH",
        "outputId": "044ebd3a-a9c3-4dd4-8483-55361dbada05",
        "colab": {
          "base_uri": "https://localhost:8080/"
        }
      },
      "execution_count": 10,
      "outputs": [
        {
          "output_type": "execute_result",
          "data": {
            "text/plain": [
              "(50000, 1)"
            ]
          },
          "metadata": {},
          "execution_count": 10
        }
      ]
    },
    {
      "cell_type": "code",
      "source": [
        "def plot_sample(index):\n",
        "    plt.figure(figsize = (10,1))\n",
        "    plt.imshow(X_train[index])"
      ],
      "metadata": {
        "id": "wzKLJfKOKZjO"
      },
      "execution_count": 11,
      "outputs": []
    },
    {
      "cell_type": "code",
      "source": [
        "plot_sample(0)"
      ],
      "metadata": {
        "id": "eozSxASbKgh0",
        "outputId": "3226693f-1083-461a-e7c1-8434151b453c",
        "colab": {
          "base_uri": "https://localhost:8080/",
          "height": 105
        }
      },
      "execution_count": 12,
      "outputs": [
        {
          "output_type": "display_data",
          "data": {
            "text/plain": [
              "<Figure size 720x72 with 1 Axes>"
            ],
            "image/png": "[encoded data removed]"
          },
          "metadata": {
            "needs_background": "light"
          }
        }
      ]
    },
    {
      "cell_type": "code",
      "source": [
        "classes = [\"airplane\",\"automobile\",\"bird\",\"cat\",\"deer\",\"dog\",\"frog\",\"horse\",\"ship\",\"truck\"]"
      ],
      "metadata": {
        "id": "fzOO-tc3K0s9"
      },
      "execution_count": 13,
      "outputs": []
    },
    {
      "cell_type": "code",
      "source": [
        "classes[y_train[3][0]]"
      ],
      "metadata": {
        "id": "--eK2R_iK5pr",
        "outputId": "4d347a12-5f17-40b8-9354-67f0df094075",
        "colab": {
          "base_uri": "https://localhost:8080/",
          "height": 35
        }
      },
      "execution_count": 14,
      "outputs": [
        {
          "output_type": "execute_result",
          "data": {
            "text/plain": [
              "'deer'"
            ],
            "application/vnd.google.colaboratory.intrinsic+json": {
              "type": "string"
            }
          },
          "metadata": {},
          "execution_count": 14
        }
      ]
    },
    {
      "cell_type": "code",
      "source": [
        "X_train_scaled = X_train / 255\n",
        "X_test_scaled = X_test / 255"
      ],
      "metadata": {
        "id": "TpyofCrmLFRF"
      },
      "execution_count": 15,
      "outputs": []
    },
    {
      "cell_type": "code",
      "source": [
        "y_train_categorical = keras.utils.to_categorical(\n",
        "    y_train, num_classes=10, dtype='float32'\n",
        ")\n",
        "y_test_categorical = keras.utils.to_categorical(\n",
        "    y_test, num_classes=10, dtype='float32'\n",
        ")"
      ],
      "metadata": {
        "id": "01ItYl8sLhQI"
      },
      "execution_count": 16,
      "outputs": []
    },
    {
      "cell_type": "code",
      "source": [
        "model = keras.Sequential([\n",
        "        keras.layers.Flatten(input_shape=(32,32,3)),\n",
        "        keras.layers.Dense(3000, activation='relu'),\n",
        "        keras.layers.Dense(1000, activation='relu'),\n",
        "        keras.layers.Dense(10, activation='sigmoid')    \n",
        "    ])\n",
        "\n",
        "model.compile(optimizer='SGD',\n",
        "              loss='categorical_crossentropy',\n",
        "              metrics=['accuracy'])\n",
        "\n",
        "model.fit(X_train_scaled, y_train_categorical, epochs=50)"
      ],
      "metadata": {
        "id": "aCnjcxA2PQmA",
        "outputId": "7443ad79-a07d-43c2-e1a9-e0b0542de4a0",
        "colab": {
          "base_uri": "https://localhost:8080/"
        }
      },
      "execution_count": 18,
      "outputs": [
        {
          "output_type": "stream",
          "name": "stdout",
          "text": [
            "Epoch 1/50\n",
            "1563/1563 [==============================] - 104s 66ms/step - loss: 1.8133 - accuracy: 0.3567\n",
            "Epoch 2/50\n",
            "1563/1563 [==============================] - 104s 66ms/step - loss: 1.6248 - accuracy: 0.4261\n",
            "Epoch 3/50\n",
            "1563/1563 [==============================] - 103s 66ms/step - loss: 1.5432 - accuracy: 0.4549\n",
            "Epoch 4/50\n",
            "1563/1563 [==============================] - 104s 67ms/step - loss: 1.4831 - accuracy: 0.4759\n",
            "Epoch 5/50\n",
            "1563/1563 [==============================] - 104s 66ms/step - loss: 1.4334 - accuracy: 0.4980\n",
            "Epoch 6/50\n",
            "1563/1563 [==============================] - 103s 66ms/step - loss: 1.3919 - accuracy: 0.5098\n",
            "Epoch 7/50\n",
            "1563/1563 [==============================] - 103s 66ms/step - loss: 1.3500 - accuracy: 0.5256\n",
            "Epoch 8/50\n",
            "1563/1563 [==============================] - 103s 66ms/step - loss: 1.3180 - accuracy: 0.5349\n",
            "Epoch 9/50\n",
            "1563/1563 [==============================] - 104s 66ms/step - loss: 1.2813 - accuracy: 0.5512\n",
            "Epoch 10/50\n",
            "1563/1563 [==============================] - 105s 67ms/step - loss: 1.2514 - accuracy: 0.5619\n",
            "Epoch 11/50\n",
            "1563/1563 [==============================] - 103s 66ms/step - loss: 1.2225 - accuracy: 0.5728\n",
            "Epoch 12/50\n",
            "1563/1563 [==============================] - 103s 66ms/step - loss: 1.1943 - accuracy: 0.5825\n",
            "Epoch 13/50\n",
            "1563/1563 [==============================] - 102s 65ms/step - loss: 1.1631 - accuracy: 0.5931\n",
            "Epoch 14/50\n",
            "1563/1563 [==============================] - 102s 65ms/step - loss: 1.1375 - accuracy: 0.6029\n",
            "Epoch 15/50\n",
            "1563/1563 [==============================] - 103s 66ms/step - loss: 1.1116 - accuracy: 0.6124\n",
            "Epoch 16/50\n",
            "1563/1563 [==============================] - 103s 66ms/step - loss: 1.0853 - accuracy: 0.6216\n",
            "Epoch 17/50\n",
            "1563/1563 [==============================] - 102s 65ms/step - loss: 1.0583 - accuracy: 0.6324\n",
            "Epoch 18/50\n",
            "1563/1563 [==============================] - 101s 65ms/step - loss: 1.0336 - accuracy: 0.6416\n",
            "Epoch 19/50\n",
            "1563/1563 [==============================] - 101s 65ms/step - loss: 1.0057 - accuracy: 0.6520\n",
            "Epoch 20/50\n",
            "1563/1563 [==============================] - 102s 65ms/step - loss: 0.9830 - accuracy: 0.6607\n",
            "Epoch 21/50\n",
            "1563/1563 [==============================] - 102s 65ms/step - loss: 0.9552 - accuracy: 0.6686\n",
            "Epoch 22/50\n",
            "1563/1563 [==============================] - 102s 65ms/step - loss: 0.9295 - accuracy: 0.6798\n",
            "Epoch 23/50\n",
            "1563/1563 [==============================] - 102s 65ms/step - loss: 0.9025 - accuracy: 0.6886\n",
            "Epoch 24/50\n",
            "1563/1563 [==============================] - 102s 65ms/step - loss: 0.8773 - accuracy: 0.6980\n",
            "Epoch 25/50\n",
            "1563/1563 [==============================] - 102s 65ms/step - loss: 0.8536 - accuracy: 0.7043\n",
            "Epoch 26/50\n",
            "1563/1563 [==============================] - 102s 65ms/step - loss: 0.8274 - accuracy: 0.7142\n",
            "Epoch 27/50\n",
            "1563/1563 [==============================] - 102s 65ms/step - loss: 0.7993 - accuracy: 0.7271\n",
            "Epoch 28/50\n",
            "1563/1563 [==============================] - 105s 67ms/step - loss: 0.7772 - accuracy: 0.7307\n",
            "Epoch 29/50\n",
            "1563/1563 [==============================] - 106s 68ms/step - loss: 0.7476 - accuracy: 0.7438\n",
            "Epoch 30/50\n",
            "1563/1563 [==============================] - 106s 68ms/step - loss: 0.7260 - accuracy: 0.7532\n",
            "Epoch 31/50\n",
            "1563/1563 [==============================] - 107s 68ms/step - loss: 0.6986 - accuracy: 0.7629\n",
            "Epoch 32/50\n",
            "1563/1563 [==============================] - 106s 68ms/step - loss: 0.6749 - accuracy: 0.7722\n",
            "Epoch 33/50\n",
            "1563/1563 [==============================] - 106s 68ms/step - loss: 0.6499 - accuracy: 0.7799\n",
            "Epoch 34/50\n",
            "1563/1563 [==============================] - 106s 68ms/step - loss: 0.6250 - accuracy: 0.7890\n",
            "Epoch 35/50\n",
            "1563/1563 [==============================] - 106s 68ms/step - loss: 0.6017 - accuracy: 0.8006\n",
            "Epoch 36/50\n",
            "1563/1563 [==============================] - 106s 68ms/step - loss: 0.5765 - accuracy: 0.8080\n",
            "Epoch 37/50\n",
            "1563/1563 [==============================] - 106s 68ms/step - loss: 0.5544 - accuracy: 0.8167\n",
            "Epoch 38/50\n",
            "1563/1563 [==============================] - 106s 68ms/step - loss: 0.5289 - accuracy: 0.8267\n",
            "Epoch 39/50\n",
            "1563/1563 [==============================] - 107s 68ms/step - loss: 0.5108 - accuracy: 0.8333\n",
            "Epoch 40/50\n",
            "1563/1563 [==============================] - 106s 68ms/step - loss: 0.4863 - accuracy: 0.8413\n",
            "Epoch 41/50\n",
            "1563/1563 [==============================] - 106s 68ms/step - loss: 0.4668 - accuracy: 0.8482\n",
            "Epoch 42/50\n",
            "1563/1563 [==============================] - 106s 68ms/step - loss: 0.4445 - accuracy: 0.8579\n",
            "Epoch 43/50\n",
            "1563/1563 [==============================] - 106s 68ms/step - loss: 0.4224 - accuracy: 0.8648\n",
            "Epoch 44/50\n",
            "1563/1563 [==============================] - 106s 68ms/step - loss: 0.4008 - accuracy: 0.8720\n",
            "Epoch 45/50\n",
            "1563/1563 [==============================] - 105s 67ms/step - loss: 0.3798 - accuracy: 0.8823\n",
            "Epoch 46/50\n",
            "1563/1563 [==============================] - 106s 68ms/step - loss: 0.3635 - accuracy: 0.8881\n",
            "Epoch 47/50\n",
            "1563/1563 [==============================] - 106s 68ms/step - loss: 0.3405 - accuracy: 0.8935\n",
            "Epoch 48/50\n",
            "1563/1563 [==============================] - 106s 68ms/step - loss: 0.3234 - accuracy: 0.9005\n",
            "Epoch 49/50\n",
            "1563/1563 [==============================] - 106s 68ms/step - loss: 0.3092 - accuracy: 0.9073\n",
            "Epoch 50/50\n",
            "1563/1563 [==============================] - 106s 68ms/step - loss: 0.2918 - accuracy: 0.9120\n"
          ]
        },
        {
          "output_type": "execute_result",
          "data": {
            "text/plain": [
              "<keras.callbacks.History at 0x7f2bec60c150>"
            ]
          },
          "metadata": {},
          "execution_count": 18
        }
      ]
    }
  ],
  "metadata": {
    "colab": {
      "collapsed_sections": [],
      "name": "Welcome to Colaboratory",
      "toc_visible": true,
      "provenance": [],
      "include_colab_link": true
    },
    "kernelspec": {
      "display_name": "Python 3",
      "name": "python3"
    }
  },
  "nbformat": 4,
  "nbformat_minor": 0
}